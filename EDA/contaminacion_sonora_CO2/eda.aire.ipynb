{
 "cells": [
  {
   "cell_type": "code",
   "execution_count": 12,
   "metadata": {},
   "outputs": [],
   "source": [
    "import pandas as pd"
   ]
  },
  {
   "cell_type": "code",
   "execution_count": 13,
   "metadata": {},
   "outputs": [],
   "source": [
    "data = pd.read_csv(\"aireCO2.csv\")"
   ]
  },
  {
   "cell_type": "code",
   "execution_count": 14,
   "metadata": {},
   "outputs": [
    {
     "data": {
      "text/html": [
       "<div>\n",
       "<style scoped>\n",
       "    .dataframe tbody tr th:only-of-type {\n",
       "        vertical-align: middle;\n",
       "    }\n",
       "\n",
       "    .dataframe tbody tr th {\n",
       "        vertical-align: top;\n",
       "    }\n",
       "\n",
       "    .dataframe thead th {\n",
       "        text-align: right;\n",
       "    }\n",
       "</style>\n",
       "<table border=\"1\" class=\"dataframe\">\n",
       "  <thead>\n",
       "    <tr style=\"text-align: right;\">\n",
       "      <th></th>\n",
       "      <th>Unique ID</th>\n",
       "      <th>Indicator ID</th>\n",
       "      <th>Name</th>\n",
       "      <th>Measure</th>\n",
       "      <th>Measure Info</th>\n",
       "      <th>Geo Type Name</th>\n",
       "      <th>Geo Join ID</th>\n",
       "      <th>Geo Place Name</th>\n",
       "      <th>Time Period</th>\n",
       "      <th>Start_Date</th>\n",
       "      <th>Data Value</th>\n",
       "      <th>Message</th>\n",
       "    </tr>\n",
       "  </thead>\n",
       "  <tbody>\n",
       "    <tr>\n",
       "      <th>0</th>\n",
       "      <td>179772</td>\n",
       "      <td>640</td>\n",
       "      <td>Boiler Emissions- Total SO2 Emissions</td>\n",
       "      <td>Number per km2</td>\n",
       "      <td>number</td>\n",
       "      <td>UHF42</td>\n",
       "      <td>409.0</td>\n",
       "      <td>Southeast Queens</td>\n",
       "      <td>2015</td>\n",
       "      <td>01/01/2015</td>\n",
       "      <td>0.3</td>\n",
       "      <td>NaN</td>\n",
       "    </tr>\n",
       "    <tr>\n",
       "      <th>1</th>\n",
       "      <td>179785</td>\n",
       "      <td>640</td>\n",
       "      <td>Boiler Emissions- Total SO2 Emissions</td>\n",
       "      <td>Number per km2</td>\n",
       "      <td>number</td>\n",
       "      <td>UHF42</td>\n",
       "      <td>209.0</td>\n",
       "      <td>Bensonhurst - Bay Ridge</td>\n",
       "      <td>2015</td>\n",
       "      <td>01/01/2015</td>\n",
       "      <td>1.2</td>\n",
       "      <td>NaN</td>\n",
       "    </tr>\n",
       "  </tbody>\n",
       "</table>\n",
       "</div>"
      ],
      "text/plain": [
       "   Unique ID  Indicator ID                                   Name  \\\n",
       "0     179772           640  Boiler Emissions- Total SO2 Emissions   \n",
       "1     179785           640  Boiler Emissions- Total SO2 Emissions   \n",
       "\n",
       "          Measure Measure Info Geo Type Name  Geo Join ID  \\\n",
       "0  Number per km2       number         UHF42        409.0   \n",
       "1  Number per km2       number         UHF42        209.0   \n",
       "\n",
       "            Geo Place Name Time Period  Start_Date  Data Value  Message  \n",
       "0         Southeast Queens        2015  01/01/2015         0.3      NaN  \n",
       "1  Bensonhurst - Bay Ridge        2015  01/01/2015         1.2      NaN  "
      ]
     },
     "execution_count": 14,
     "metadata": {},
     "output_type": "execute_result"
    }
   ],
   "source": [
    "data.head(2)"
   ]
  },
  {
   "cell_type": "code",
   "execution_count": 15,
   "metadata": {},
   "outputs": [
    {
     "name": "stdout",
     "output_type": "stream",
     "text": [
      "<class 'pandas.core.frame.DataFrame'>\n",
      "RangeIndex: 18025 entries, 0 to 18024\n",
      "Data columns (total 12 columns):\n",
      " #   Column          Non-Null Count  Dtype  \n",
      "---  ------          --------------  -----  \n",
      " 0   Unique ID       18025 non-null  int64  \n",
      " 1   Indicator ID    18025 non-null  int64  \n",
      " 2   Name            18025 non-null  object \n",
      " 3   Measure         18025 non-null  object \n",
      " 4   Measure Info    18025 non-null  object \n",
      " 5   Geo Type Name   18025 non-null  object \n",
      " 6   Geo Join ID     18016 non-null  float64\n",
      " 7   Geo Place Name  18016 non-null  object \n",
      " 8   Time Period     18025 non-null  object \n",
      " 9   Start_Date      18025 non-null  object \n",
      " 10  Data Value      18025 non-null  float64\n",
      " 11  Message         0 non-null      float64\n",
      "dtypes: float64(3), int64(2), object(7)\n",
      "memory usage: 1.7+ MB\n"
     ]
    }
   ],
   "source": [
    "data.info()"
   ]
  },
  {
   "cell_type": "markdown",
   "metadata": {},
   "source": [
    "Eliminamos columna Message"
   ]
  },
  {
   "cell_type": "code",
   "execution_count": 16,
   "metadata": {},
   "outputs": [],
   "source": [
    "data = data.drop(columns=['Message'])"
   ]
  },
  {
   "cell_type": "code",
   "execution_count": 17,
   "metadata": {},
   "outputs": [
    {
     "data": {
      "text/html": [
       "<div>\n",
       "<style scoped>\n",
       "    .dataframe tbody tr th:only-of-type {\n",
       "        vertical-align: middle;\n",
       "    }\n",
       "\n",
       "    .dataframe tbody tr th {\n",
       "        vertical-align: top;\n",
       "    }\n",
       "\n",
       "    .dataframe thead th {\n",
       "        text-align: right;\n",
       "    }\n",
       "</style>\n",
       "<table border=\"1\" class=\"dataframe\">\n",
       "  <thead>\n",
       "    <tr style=\"text-align: right;\">\n",
       "      <th></th>\n",
       "      <th>Unique ID</th>\n",
       "      <th>Indicator ID</th>\n",
       "      <th>Name</th>\n",
       "      <th>Measure</th>\n",
       "      <th>Measure Info</th>\n",
       "      <th>Geo Type Name</th>\n",
       "      <th>Geo Join ID</th>\n",
       "      <th>Geo Place Name</th>\n",
       "      <th>Time Period</th>\n",
       "      <th>Start_Date</th>\n",
       "      <th>Data Value</th>\n",
       "    </tr>\n",
       "  </thead>\n",
       "  <tbody>\n",
       "    <tr>\n",
       "      <th>1183</th>\n",
       "      <td>816757</td>\n",
       "      <td>643</td>\n",
       "      <td>Annual vehicle miles traveled</td>\n",
       "      <td>Million miles</td>\n",
       "      <td>per square mile</td>\n",
       "      <td>CD</td>\n",
       "      <td>305.0</td>\n",
       "      <td>East New York and Starrett City (CD5)</td>\n",
       "      <td>2019-01-01</td>\n",
       "      <td>01/01/2019</td>\n",
       "      <td>58.1</td>\n",
       "    </tr>\n",
       "    <tr>\n",
       "      <th>1185</th>\n",
       "      <td>816805</td>\n",
       "      <td>643</td>\n",
       "      <td>Annual vehicle miles traveled</td>\n",
       "      <td>Million miles</td>\n",
       "      <td>per square mile</td>\n",
       "      <td>CD</td>\n",
       "      <td>105.0</td>\n",
       "      <td>Midtown (CD5)</td>\n",
       "      <td>2019-01-01</td>\n",
       "      <td>01/01/2019</td>\n",
       "      <td>94.8</td>\n",
       "    </tr>\n",
       "    <tr>\n",
       "      <th>1382</th>\n",
       "      <td>816787</td>\n",
       "      <td>643</td>\n",
       "      <td>Annual vehicle miles traveled</td>\n",
       "      <td>Million miles</td>\n",
       "      <td>per square mile</td>\n",
       "      <td>CD</td>\n",
       "      <td>202.0</td>\n",
       "      <td>Hunts Point and Longwood (CD2)</td>\n",
       "      <td>2019-01-01</td>\n",
       "      <td>01/01/2019</td>\n",
       "      <td>51.4</td>\n",
       "    </tr>\n",
       "    <tr>\n",
       "      <th>1525</th>\n",
       "      <td>816903</td>\n",
       "      <td>643</td>\n",
       "      <td>Annual vehicle miles traveled</td>\n",
       "      <td>Million miles</td>\n",
       "      <td>per square mile</td>\n",
       "      <td>Borough</td>\n",
       "      <td>4.0</td>\n",
       "      <td>Queens</td>\n",
       "      <td>2019-01-01</td>\n",
       "      <td>01/01/2019</td>\n",
       "      <td>57.5</td>\n",
       "    </tr>\n",
       "    <tr>\n",
       "      <th>1754</th>\n",
       "      <td>816753</td>\n",
       "      <td>643</td>\n",
       "      <td>Annual vehicle miles traveled</td>\n",
       "      <td>Million miles</td>\n",
       "      <td>per square mile</td>\n",
       "      <td>CD</td>\n",
       "      <td>307.0</td>\n",
       "      <td>Sunset Park (CD7)</td>\n",
       "      <td>2019-01-01</td>\n",
       "      <td>01/01/2019</td>\n",
       "      <td>120.7</td>\n",
       "    </tr>\n",
       "  </tbody>\n",
       "</table>\n",
       "</div>"
      ],
      "text/plain": [
       "      Unique ID  Indicator ID                           Name        Measure  \\\n",
       "1183     816757           643  Annual vehicle miles traveled  Million miles   \n",
       "1185     816805           643  Annual vehicle miles traveled  Million miles   \n",
       "1382     816787           643  Annual vehicle miles traveled  Million miles   \n",
       "1525     816903           643  Annual vehicle miles traveled  Million miles   \n",
       "1754     816753           643  Annual vehicle miles traveled  Million miles   \n",
       "\n",
       "         Measure Info Geo Type Name  Geo Join ID  \\\n",
       "1183  per square mile            CD        305.0   \n",
       "1185  per square mile            CD        105.0   \n",
       "1382  per square mile            CD        202.0   \n",
       "1525  per square mile       Borough          4.0   \n",
       "1754  per square mile            CD        307.0   \n",
       "\n",
       "                             Geo Place Name Time Period  Start_Date  \\\n",
       "1183  East New York and Starrett City (CD5)  2019-01-01  01/01/2019   \n",
       "1185                          Midtown (CD5)  2019-01-01  01/01/2019   \n",
       "1382         Hunts Point and Longwood (CD2)  2019-01-01  01/01/2019   \n",
       "1525                                 Queens  2019-01-01  01/01/2019   \n",
       "1754                      Sunset Park (CD7)  2019-01-01  01/01/2019   \n",
       "\n",
       "      Data Value  \n",
       "1183        58.1  \n",
       "1185        94.8  \n",
       "1382        51.4  \n",
       "1525        57.5  \n",
       "1754       120.7  "
      ]
     },
     "execution_count": 17,
     "metadata": {},
     "output_type": "execute_result"
    }
   ],
   "source": [
    "data['Time Period'] = pd.to_datetime(data['Time Period'], errors='coerce')\n",
    "\n",
    "data_2017 = data[data['Time Period'].dt.year >= 2017]\n",
    "\n",
    "data_2017.head(5)"
   ]
  },
  {
   "cell_type": "code",
   "execution_count": null,
   "metadata": {},
   "outputs": [
    {
     "name": "stdout",
     "output_type": "stream",
     "text": [
      "El ID correspondiente al valor máximo en 'Data Value' es: 816803\n"
     ]
    }
   ],
   "source": [
    "fila_max = data_2017[data_2017['Data Value'] == data_2017['Data Value'].max()]\n",
    "\n",
    "id_max = fila_max['Unique ID'].iloc[0]\n",
    "\n",
    "print(f\"El ID correspondiente al valor máximo en 'Data Value' es: {id_max}\")"
   ]
  },
  {
   "cell_type": "code",
   "execution_count": 23,
   "metadata": {},
   "outputs": [
    {
     "name": "stdout",
     "output_type": "stream",
     "text": [
      "La fila con 'Unique ID' 816803 es:\n",
      "      Unique ID  Indicator ID                           Name        Measure  \\\n",
      "1823     816803           643  Annual vehicle miles traveled  Million miles   \n",
      "\n",
      "         Measure Info Geo Type Name  Geo Join ID  \\\n",
      "1823  per square mile            CD        106.0   \n",
      "\n",
      "                            Geo Place Name Time Period  Start_Date  Data Value  \n",
      "1823  Stuyvesant Town and Turtle Bay (CD6)  2019-01-01  01/01/2019       191.2  \n"
     ]
    }
   ],
   "source": [
    "fila_unica = data_2017[data_2017['Unique ID'] == 816803]\n",
    "\n",
    "# Imprimir la fila completa\n",
    "print(f\"La fila con 'Unique ID' 816803 es:\\n{fila_unica}\")"
   ]
  },
  {
   "cell_type": "markdown",
   "metadata": {},
   "source": [
    "El barrio de mayor concentracion de CO2 es Stuyvesant Town, se encuentra ubicado en Manhattan, lo cual no parece ilogico que tambien la contaminacion sonora mas grande se de en Manhattan tambien."
   ]
  },
  {
   "cell_type": "code",
   "execution_count": 25,
   "metadata": {},
   "outputs": [],
   "source": [
    "\n",
    "data_2017.to_csv('data_aireCO2.csv', index=False)\n"
   ]
  }
 ],
 "metadata": {
  "kernelspec": {
   "display_name": "Python 3",
   "language": "python",
   "name": "python3"
  },
  "language_info": {
   "codemirror_mode": {
    "name": "ipython",
    "version": 3
   },
   "file_extension": ".py",
   "mimetype": "text/x-python",
   "name": "python",
   "nbconvert_exporter": "python",
   "pygments_lexer": "ipython3",
   "version": "3.11.9"
  }
 },
 "nbformat": 4,
 "nbformat_minor": 2
}
