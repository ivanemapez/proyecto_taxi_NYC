{
 "cells": [
  {
   "cell_type": "code",
   "execution_count": 3,
   "metadata": {},
   "outputs": [],
   "source": [
    "import pandas as pd\n",
    "import matplotlib.pyplot as plt\n",
    "import seaborn as sns\n",
    "import folium"
   ]
  },
  {
   "cell_type": "code",
   "execution_count": 4,
   "metadata": {},
   "outputs": [
    {
     "name": "stdout",
     "output_type": "stream",
     "text": [
      "Directorio actual: c:\\Users\\ivan\\Documents\\pf\\emision_CO2_contaminacion_sonora\n",
      "Archivos en el directorio: ['.~lock.Data-Dictionary-Air_Quality_2024.xlsx#', 'aireCO2.csv', 'contaminacion_Sonora.csv', 'Data-Dictionary-Air_Quality_2024.xlsx', 'eda_contaminacion.ipynb', 'mapa_contaminacion_sonora.html']\n"
     ]
    }
   ],
   "source": [
    "import os\n",
    "\n",
    "# Verificar el directorio actual\n",
    "print(\"Directorio actual:\", os.getcwd())\n",
    "\n",
    "# Listar archivos en el directorio actual\n",
    "print(\"Archivos en el directorio:\", os.listdir())\n"
   ]
  },
  {
   "cell_type": "code",
   "execution_count": 5,
   "metadata": {},
   "outputs": [],
   "source": [
    "data_cs = pd.read_csv(\"contaminacion_Sonora.csv\")"
   ]
  },
  {
   "cell_type": "code",
   "execution_count": 6,
   "metadata": {},
   "outputs": [
    {
     "data": {
      "text/html": [
       "<div>\n",
       "<style scoped>\n",
       "    .dataframe tbody tr th:only-of-type {\n",
       "        vertical-align: middle;\n",
       "    }\n",
       "\n",
       "    .dataframe tbody tr th {\n",
       "        vertical-align: top;\n",
       "    }\n",
       "\n",
       "    .dataframe thead th {\n",
       "        text-align: right;\n",
       "    }\n",
       "</style>\n",
       "<table border=\"1\" class=\"dataframe\">\n",
       "  <thead>\n",
       "    <tr style=\"text-align: right;\">\n",
       "      <th></th>\n",
       "      <th>split</th>\n",
       "      <th>sensor_id</th>\n",
       "      <th>audio_filename</th>\n",
       "      <th>annotator_id</th>\n",
       "      <th>borough</th>\n",
       "      <th>block</th>\n",
       "      <th>latitude</th>\n",
       "      <th>longitude</th>\n",
       "      <th>year</th>\n",
       "      <th>week</th>\n",
       "      <th>...</th>\n",
       "      <th>7-X_other-unknown-human-voice_proximity</th>\n",
       "      <th>8-1_dog-barking-whining_proximity</th>\n",
       "      <th>1_engine_presence</th>\n",
       "      <th>2_machinery-impact_presence</th>\n",
       "      <th>3_non-machinery-impact_presence</th>\n",
       "      <th>4_powered-saw_presence</th>\n",
       "      <th>5_alert-signal_presence</th>\n",
       "      <th>6_music_presence</th>\n",
       "      <th>7_human-voice_presence</th>\n",
       "      <th>8_dog_presence</th>\n",
       "    </tr>\n",
       "  </thead>\n",
       "  <tbody>\n",
       "    <tr>\n",
       "      <th>0</th>\n",
       "      <td>test</td>\n",
       "      <td>0</td>\n",
       "      <td>00_026884.wav</td>\n",
       "      <td>-6</td>\n",
       "      <td>1</td>\n",
       "      <td>547</td>\n",
       "      <td>40.72951</td>\n",
       "      <td>-73.99388</td>\n",
       "      <td>2019</td>\n",
       "      <td>43</td>\n",
       "      <td>...</td>\n",
       "      <td>-1</td>\n",
       "      <td>-1</td>\n",
       "      <td>-1</td>\n",
       "      <td>1</td>\n",
       "      <td>0</td>\n",
       "      <td>-1</td>\n",
       "      <td>-1</td>\n",
       "      <td>-1</td>\n",
       "      <td>-1</td>\n",
       "      <td>-1</td>\n",
       "    </tr>\n",
       "  </tbody>\n",
       "</table>\n",
       "<p>1 rows × 78 columns</p>\n",
       "</div>"
      ],
      "text/plain": [
       "  split  sensor_id audio_filename  annotator_id  borough  block  latitude  \\\n",
       "0  test          0  00_026884.wav            -6        1    547  40.72951   \n",
       "\n",
       "   longitude  year  week  ...  7-X_other-unknown-human-voice_proximity  \\\n",
       "0  -73.99388  2019    43  ...                                       -1   \n",
       "\n",
       "   8-1_dog-barking-whining_proximity  1_engine_presence  \\\n",
       "0                                 -1                 -1   \n",
       "\n",
       "   2_machinery-impact_presence  3_non-machinery-impact_presence  \\\n",
       "0                            1                                0   \n",
       "\n",
       "   4_powered-saw_presence  5_alert-signal_presence  6_music_presence  \\\n",
       "0                      -1                       -1                -1   \n",
       "\n",
       "   7_human-voice_presence  8_dog_presence  \n",
       "0                      -1              -1  \n",
       "\n",
       "[1 rows x 78 columns]"
      ]
     },
     "execution_count": 6,
     "metadata": {},
     "output_type": "execute_result"
    }
   ],
   "source": [
    "data_cs.head(1)"
   ]
  },
  {
   "cell_type": "code",
   "execution_count": 7,
   "metadata": {},
   "outputs": [],
   "source": [
    "columnas_deseadas = [\n",
    "    'split', 'sensor_id', 'annotator_id', 'borough', 'block',\n",
    "    'latitude', 'longitude', 'year', 'week',\n",
    "    '1_engine_presence', '2_machinery-impact_presence', '3_non-machinery-impact_presence'\n",
    "]\n",
    "data_m = data_cs[columnas_deseadas]\n"
   ]
  },
  {
   "cell_type": "code",
   "execution_count": 8,
   "metadata": {},
   "outputs": [
    {
     "data": {
      "text/html": [
       "<div>\n",
       "<style scoped>\n",
       "    .dataframe tbody tr th:only-of-type {\n",
       "        vertical-align: middle;\n",
       "    }\n",
       "\n",
       "    .dataframe tbody tr th {\n",
       "        vertical-align: top;\n",
       "    }\n",
       "\n",
       "    .dataframe thead th {\n",
       "        text-align: right;\n",
       "    }\n",
       "</style>\n",
       "<table border=\"1\" class=\"dataframe\">\n",
       "  <thead>\n",
       "    <tr style=\"text-align: right;\">\n",
       "      <th></th>\n",
       "      <th>split</th>\n",
       "      <th>sensor_id</th>\n",
       "      <th>annotator_id</th>\n",
       "      <th>borough</th>\n",
       "      <th>block</th>\n",
       "      <th>latitude</th>\n",
       "      <th>longitude</th>\n",
       "      <th>year</th>\n",
       "      <th>week</th>\n",
       "      <th>1_engine_presence</th>\n",
       "      <th>2_machinery-impact_presence</th>\n",
       "      <th>3_non-machinery-impact_presence</th>\n",
       "    </tr>\n",
       "  </thead>\n",
       "  <tbody>\n",
       "    <tr>\n",
       "      <th>0</th>\n",
       "      <td>test</td>\n",
       "      <td>0</td>\n",
       "      <td>-6</td>\n",
       "      <td>1</td>\n",
       "      <td>547</td>\n",
       "      <td>40.72951</td>\n",
       "      <td>-73.99388</td>\n",
       "      <td>2019</td>\n",
       "      <td>43</td>\n",
       "      <td>-1</td>\n",
       "      <td>1</td>\n",
       "      <td>0</td>\n",
       "    </tr>\n",
       "  </tbody>\n",
       "</table>\n",
       "</div>"
      ],
      "text/plain": [
       "  split  sensor_id  annotator_id  borough  block  latitude  longitude  year  \\\n",
       "0  test          0            -6        1    547  40.72951  -73.99388  2019   \n",
       "\n",
       "   week  1_engine_presence  2_machinery-impact_presence  \\\n",
       "0    43                 -1                            1   \n",
       "\n",
       "   3_non-machinery-impact_presence  \n",
       "0                                0  "
      ]
     },
     "execution_count": 8,
     "metadata": {},
     "output_type": "execute_result"
    }
   ],
   "source": [
    "data_m.head(1)"
   ]
  },
  {
   "cell_type": "markdown",
   "metadata": {},
   "source": [
    "Renombramos las columnas"
   ]
  },
  {
   "cell_type": "code",
   "execution_count": 9,
   "metadata": {},
   "outputs": [
    {
     "name": "stderr",
     "output_type": "stream",
     "text": [
      "C:\\Users\\ivan\\AppData\\Local\\Temp\\ipykernel_16224\\3231958874.py:1: SettingWithCopyWarning: \n",
      "A value is trying to be set on a copy of a slice from a DataFrame\n",
      "\n",
      "See the caveats in the documentation: https://pandas.pydata.org/pandas-docs/stable/user_guide/indexing.html#returning-a-view-versus-a-copy\n",
      "  data_m.rename(columns={\n"
     ]
    }
   ],
   "source": [
    "data_m.rename(columns={\n",
    "    '1_engine_presence': 'engine_presence',\n",
    "    '2_machinery-impact_presence': 'machinery-impact_presence',\n",
    "    '3_non-machinery-impact_presence': 'non-machinery-impact_presence'\n",
    "}, inplace=True)"
   ]
  },
  {
   "cell_type": "code",
   "execution_count": 10,
   "metadata": {},
   "outputs": [
    {
     "name": "stdout",
     "output_type": "stream",
     "text": [
      "<class 'pandas.core.frame.DataFrame'>\n",
      "RangeIndex: 62022 entries, 0 to 62021\n",
      "Data columns (total 12 columns):\n",
      " #   Column                         Non-Null Count  Dtype  \n",
      "---  ------                         --------------  -----  \n",
      " 0   split                          62022 non-null  object \n",
      " 1   sensor_id                      62022 non-null  int64  \n",
      " 2   annotator_id                   62022 non-null  int64  \n",
      " 3   borough                        62022 non-null  int64  \n",
      " 4   block                          62022 non-null  int64  \n",
      " 5   latitude                       62022 non-null  float64\n",
      " 6   longitude                      62022 non-null  float64\n",
      " 7   year                           62022 non-null  int64  \n",
      " 8   week                           62022 non-null  int64  \n",
      " 9   engine_presence                62022 non-null  int64  \n",
      " 10  machinery-impact_presence      62022 non-null  int64  \n",
      " 11  non-machinery-impact_presence  62022 non-null  int64  \n",
      "dtypes: float64(2), int64(9), object(1)\n",
      "memory usage: 5.7+ MB\n"
     ]
    }
   ],
   "source": [
    "data_m.info()"
   ]
  },
  {
   "cell_type": "markdown",
   "metadata": {},
   "source": [
    "Recortamos el dataset desde el año 2017 al 2024"
   ]
  },
  {
   "cell_type": "code",
   "execution_count": 11,
   "metadata": {},
   "outputs": [
    {
     "name": "stdout",
     "output_type": "stream",
     "text": [
      "Filas originales: 62022\n",
      "Filas después del recorte: 59542\n",
      "Porcentaje recortado: 4.00%\n"
     ]
    },
    {
     "name": "stderr",
     "output_type": "stream",
     "text": [
      "C:\\Users\\ivan\\AppData\\Local\\Temp\\ipykernel_16224\\1133696432.py:1: SettingWithCopyWarning: \n",
      "A value is trying to be set on a copy of a slice from a DataFrame.\n",
      "Try using .loc[row_indexer,col_indexer] = value instead\n",
      "\n",
      "See the caveats in the documentation: https://pandas.pydata.org/pandas-docs/stable/user_guide/indexing.html#returning-a-view-versus-a-copy\n",
      "  data_m['year'] = pd.to_numeric(data_m['year'], errors='coerce')\n"
     ]
    }
   ],
   "source": [
    "data_m['year'] = pd.to_numeric(data_m['year'], errors='coerce')\n",
    "\n",
    "data_filtrada = data_m[(data_m['year'] >= 2017) & (data_m['year'] <= 2024)]\n",
    "\n",
    "# filas recortadas\n",
    "print(f\"Filas originales: {len(data_m)}\")\n",
    "print(f\"Filas después del recorte: {len(data_filtrada)}\")\n",
    "print(f\"Porcentaje recortado: {(1 - len(data_filtrada) / len(data_m)) * 100:.2f}%\")\n"
   ]
  },
  {
   "cell_type": "code",
   "execution_count": 12,
   "metadata": {},
   "outputs": [
    {
     "data": {
      "text/html": [
       "<div>\n",
       "<style scoped>\n",
       "    .dataframe tbody tr th:only-of-type {\n",
       "        vertical-align: middle;\n",
       "    }\n",
       "\n",
       "    .dataframe tbody tr th {\n",
       "        vertical-align: top;\n",
       "    }\n",
       "\n",
       "    .dataframe thead th {\n",
       "        text-align: right;\n",
       "    }\n",
       "</style>\n",
       "<table border=\"1\" class=\"dataframe\">\n",
       "  <thead>\n",
       "    <tr style=\"text-align: right;\">\n",
       "      <th></th>\n",
       "      <th>split</th>\n",
       "      <th>sensor_id</th>\n",
       "      <th>annotator_id</th>\n",
       "      <th>borough</th>\n",
       "      <th>block</th>\n",
       "      <th>latitude</th>\n",
       "      <th>longitude</th>\n",
       "      <th>year</th>\n",
       "      <th>week</th>\n",
       "      <th>engine_presence</th>\n",
       "      <th>machinery-impact_presence</th>\n",
       "      <th>non-machinery-impact_presence</th>\n",
       "    </tr>\n",
       "  </thead>\n",
       "  <tbody>\n",
       "    <tr>\n",
       "      <th>0</th>\n",
       "      <td>test</td>\n",
       "      <td>0</td>\n",
       "      <td>-6</td>\n",
       "      <td>1</td>\n",
       "      <td>547</td>\n",
       "      <td>40.72951</td>\n",
       "      <td>-73.99388</td>\n",
       "      <td>2019</td>\n",
       "      <td>43</td>\n",
       "      <td>-1</td>\n",
       "      <td>1</td>\n",
       "      <td>0</td>\n",
       "    </tr>\n",
       "    <tr>\n",
       "      <th>1</th>\n",
       "      <td>test</td>\n",
       "      <td>0</td>\n",
       "      <td>-4</td>\n",
       "      <td>1</td>\n",
       "      <td>547</td>\n",
       "      <td>40.72951</td>\n",
       "      <td>-73.99388</td>\n",
       "      <td>2019</td>\n",
       "      <td>43</td>\n",
       "      <td>1</td>\n",
       "      <td>-1</td>\n",
       "      <td>-1</td>\n",
       "    </tr>\n",
       "  </tbody>\n",
       "</table>\n",
       "</div>"
      ],
      "text/plain": [
       "  split  sensor_id  annotator_id  borough  block  latitude  longitude  year  \\\n",
       "0  test          0            -6        1    547  40.72951  -73.99388  2019   \n",
       "1  test          0            -4        1    547  40.72951  -73.99388  2019   \n",
       "\n",
       "   week  engine_presence  machinery-impact_presence  \\\n",
       "0    43               -1                          1   \n",
       "1    43                1                         -1   \n",
       "\n",
       "   non-machinery-impact_presence  \n",
       "0                              0  \n",
       "1                             -1  "
      ]
     },
     "execution_count": 12,
     "metadata": {},
     "output_type": "execute_result"
    }
   ],
   "source": [
    "data_m.head(2)"
   ]
  },
  {
   "cell_type": "code",
   "execution_count": 22,
   "metadata": {},
   "outputs": [
    {
     "name": "stdout",
     "output_type": "stream",
     "text": [
      "Los 5 sensores con mayor presencia de ruidos:\n",
      "           engine_presence  machinery-impact_presence  \\\n",
      "sensor_id                                               \n",
      "40                    1311                        907   \n",
      "27                     691                        395   \n",
      "2                      836                         54   \n",
      "34                     666                         85   \n",
      "16                     693                        -36   \n",
      "\n",
      "           non-machinery-impact_presence  total_ruidos  \n",
      "sensor_id                                               \n",
      "40                                   181          2399  \n",
      "27                                    60          1146  \n",
      "2                                      1           891  \n",
      "34                                   -17           734  \n",
      "16                                   -60           597  \n",
      "\n",
      "Los 5 sensores con menor presencia de ruidos:\n",
      "           engine_presence  machinery-impact_presence  \\\n",
      "sensor_id                                               \n",
      "6                      402                       -252   \n",
      "55                      23                        -63   \n",
      "56                     -20                        -53   \n",
      "4                      317                       -206   \n",
      "50                     -55                        -72   \n",
      "\n",
      "           non-machinery-impact_presence  total_ruidos  \n",
      "sensor_id                                               \n",
      "6                                   -230           -80  \n",
      "55                                   -48           -88  \n",
      "56                                   -44          -117  \n",
      "4                                   -262          -151  \n",
      "50                                   -63          -190  \n"
     ]
    }
   ],
   "source": [
    "# Sumar los ruidos por sensor\n",
    "ruido_por_sensor = data_m.groupby('sensor_id')[['engine_presence', 'machinery-impact_presence', 'non-machinery-impact_presence']].sum()\n",
    "\n",
    "ruido_por_sensor['total_ruidos'] = ruido_por_sensor.sum(axis=1)\n",
    "\n",
    "ruido_por_sensor = ruido_por_sensor.sort_values(by='total_ruidos', ascending=False)\n",
    "\n",
    "#5 sensores con mayor ruido\n",
    "top_5_ruido = ruido_por_sensor.head(5)\n",
    "\n",
    "# 5 sensores con menor ruido\n",
    "bottom_5_ruido = ruido_por_sensor.tail(5)\n",
    "\n",
    "print(\"Los 5 sensores con mayor presencia de ruidos:\")\n",
    "print(top_5_ruido)\n",
    "\n",
    "print(\"\\nLos 5 sensores con menor presencia de ruidos:\")\n",
    "print(bottom_5_ruido)"
   ]
  },
  {
   "cell_type": "code",
   "execution_count": 21,
   "metadata": {},
   "outputs": [
    {
     "name": "stdout",
     "output_type": "stream",
     "text": [
      "El borough para el sensor_id 40 es: [1]\n"
     ]
    }
   ],
   "source": [
    "# Filtrar el DataFrame para el sensor_id 40\n",
    "sensor_40 = data_m[data_m['sensor_id'] == 40]\n",
    "\n",
    "# Obtener el borough del sensor\n",
    "borough_40 = sensor_40['borough'].unique()\n",
    "\n",
    "print(f\"El borough para el sensor_id 40 es: {borough_40}\")\n",
    "\n"
   ]
  },
  {
   "cell_type": "code",
   "execution_count": 24,
   "metadata": {},
   "outputs": [
    {
     "name": "stdout",
     "output_type": "stream",
     "text": [
      "El borough para el sensor_id 50 es: [3]\n"
     ]
    }
   ],
   "source": [
    "sensor_50 = data_m[data_m['sensor_id'] == 50]\n",
    "borough_50 = sensor_50['borough'].unique()\n",
    "\n",
    "print(f\"El borough para el sensor_id 50 es: {borough_50}\")"
   ]
  },
  {
   "cell_type": "markdown",
   "metadata": {},
   "source": [
    "Obtenemos que la zona con mayor ruido historicamente es Manhattan y la de menor ruido es Brooklyn"
   ]
  },
  {
   "cell_type": "code",
   "execution_count": 19,
   "metadata": {},
   "outputs": [
    {
     "data": {
      "image/png": "[encoded data removed]",
      "text/plain": [
       "<Figure size 1000x600 with 1 Axes>"
      ]
     },
     "metadata": {},
     "output_type": "display_data"
    }
   ],
   "source": [
    "# Top 10 sensores con más ruidos presentes\n",
    "top_sensores = ruido_por_sensor.head(10)\n",
    "\n",
    "# Crear gráfico de barras\n",
    "top_sensores['total_ruidos'].plot(kind='bar', figsize=(10, 6), color='skyblue')\n",
    "plt.title('Top 10 Sensores con Mayor Presencia de Ruidos')\n",
    "plt.xlabel('Sensor ID')\n",
    "plt.ylabel('Cantidad Total de Ruidos')\n",
    "plt.xticks(rotation=45)  # Rotar etiquetas del eje x\n",
    "plt.show()"
   ]
  },
  {
   "cell_type": "code",
   "execution_count": 27,
   "metadata": {},
   "outputs": [
    {
     "data": {
      "text/html": [
       "<div>\n",
       "<style scoped>\n",
       "    .dataframe tbody tr th:only-of-type {\n",
       "        vertical-align: middle;\n",
       "    }\n",
       "\n",
       "    .dataframe tbody tr th {\n",
       "        vertical-align: top;\n",
       "    }\n",
       "\n",
       "    .dataframe thead th {\n",
       "        text-align: right;\n",
       "    }\n",
       "</style>\n",
       "<table border=\"1\" class=\"dataframe\">\n",
       "  <thead>\n",
       "    <tr style=\"text-align: right;\">\n",
       "      <th></th>\n",
       "      <th>engine_presence</th>\n",
       "      <th>machinery-impact_presence</th>\n",
       "      <th>non-machinery-impact_presence</th>\n",
       "      <th>total_ruidos</th>\n",
       "    </tr>\n",
       "    <tr>\n",
       "      <th>sensor_id</th>\n",
       "      <th></th>\n",
       "      <th></th>\n",
       "      <th></th>\n",
       "      <th></th>\n",
       "    </tr>\n",
       "  </thead>\n",
       "  <tbody>\n",
       "    <tr>\n",
       "      <th>40</th>\n",
       "      <td>1311</td>\n",
       "      <td>907</td>\n",
       "      <td>181</td>\n",
       "      <td>2399</td>\n",
       "    </tr>\n",
       "    <tr>\n",
       "      <th>27</th>\n",
       "      <td>691</td>\n",
       "      <td>395</td>\n",
       "      <td>60</td>\n",
       "      <td>1146</td>\n",
       "    </tr>\n",
       "    <tr>\n",
       "      <th>2</th>\n",
       "      <td>836</td>\n",
       "      <td>54</td>\n",
       "      <td>1</td>\n",
       "      <td>891</td>\n",
       "    </tr>\n",
       "    <tr>\n",
       "      <th>34</th>\n",
       "      <td>666</td>\n",
       "      <td>85</td>\n",
       "      <td>-17</td>\n",
       "      <td>734</td>\n",
       "    </tr>\n",
       "    <tr>\n",
       "      <th>16</th>\n",
       "      <td>693</td>\n",
       "      <td>-36</td>\n",
       "      <td>-60</td>\n",
       "      <td>597</td>\n",
       "    </tr>\n",
       "    <tr>\n",
       "      <th>1</th>\n",
       "      <td>552</td>\n",
       "      <td>-15</td>\n",
       "      <td>40</td>\n",
       "      <td>577</td>\n",
       "    </tr>\n",
       "    <tr>\n",
       "      <th>37</th>\n",
       "      <td>333</td>\n",
       "      <td>143</td>\n",
       "      <td>44</td>\n",
       "      <td>520</td>\n",
       "    </tr>\n",
       "    <tr>\n",
       "      <th>32</th>\n",
       "      <td>419</td>\n",
       "      <td>59</td>\n",
       "      <td>41</td>\n",
       "      <td>519</td>\n",
       "    </tr>\n",
       "    <tr>\n",
       "      <th>25</th>\n",
       "      <td>447</td>\n",
       "      <td>82</td>\n",
       "      <td>-20</td>\n",
       "      <td>509</td>\n",
       "    </tr>\n",
       "    <tr>\n",
       "      <th>31</th>\n",
       "      <td>318</td>\n",
       "      <td>162</td>\n",
       "      <td>-6</td>\n",
       "      <td>474</td>\n",
       "    </tr>\n",
       "  </tbody>\n",
       "</table>\n",
       "</div>"
      ],
      "text/plain": [
       "           engine_presence  machinery-impact_presence  \\\n",
       "sensor_id                                               \n",
       "40                    1311                        907   \n",
       "27                     691                        395   \n",
       "2                      836                         54   \n",
       "34                     666                         85   \n",
       "16                     693                        -36   \n",
       "1                      552                        -15   \n",
       "37                     333                        143   \n",
       "32                     419                         59   \n",
       "25                     447                         82   \n",
       "31                     318                        162   \n",
       "\n",
       "           non-machinery-impact_presence  total_ruidos  \n",
       "sensor_id                                               \n",
       "40                                   181          2399  \n",
       "27                                    60          1146  \n",
       "2                                      1           891  \n",
       "34                                   -17           734  \n",
       "16                                   -60           597  \n",
       "1                                     40           577  \n",
       "37                                    44           520  \n",
       "32                                    41           519  \n",
       "25                                   -20           509  \n",
       "31                                    -6           474  "
      ]
     },
     "execution_count": 27,
     "metadata": {},
     "output_type": "execute_result"
    }
   ],
   "source": [
    "ruido_por_sensor.head(10)"
   ]
  },
  {
   "cell_type": "code",
   "execution_count": 28,
   "metadata": {},
   "outputs": [],
   "source": [
    "data_m.to_csv('data_contaminacion_sonora.csv', index=False)\n",
    "\n",
    "ruido_por_sensor.to_csv('ruido_por_sensor_total.csv', index=False)\n"
   ]
  }
 ],
 "metadata": {
  "kernelspec": {
   "display_name": "Python 3",
   "language": "python",
   "name": "python3"
  },
  "language_info": {
   "codemirror_mode": {
    "name": "ipython",
    "version": 3
   },
   "file_extension": ".py",
   "mimetype": "text/x-python",
   "name": "python",
   "nbconvert_exporter": "python",
   "pygments_lexer": "ipython3",
   "version": "3.11.9"
  }
 },
 "nbformat": 4,
 "nbformat_minor": 2
}
